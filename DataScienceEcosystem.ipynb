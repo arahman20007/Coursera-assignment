{
 "cells": [
  {
   "attachments": {},
   "cell_type": "markdown",
   "id": "3a7da3eb",
   "metadata": {},
   "source": [
    "# Data Science Tools and Ecosystem"
   ]
  },
  {
   "cell_type": "markdown",
   "id": "31a1c867",
   "metadata": {},
   "source": [
    "In this notebook, Data Science Tools and Ecosystem are summarized."
   ]
  },
  {
   "cell_type": "markdown",
   "id": "116800b5",
   "metadata": {},
   "source": [
    "Objectives:\n",
    "* List popular languages for Data Science\n",
    "* How to use the common languages\n",
    "* List of open source tools\n"
   ]
  },
  {
   "attachments": {},
   "cell_type": "markdown",
   "id": "17e1e45a",
   "metadata": {},
   "source": [
    "Some of the popular languages that Data Scientists use are:\n",
    "1. Python\n",
    "2. R\n",
    "3. SQL"
   ]
  },
  {
   "cell_type": "markdown",
   "id": "ce9ddbd0",
   "metadata": {},
   "source": [
    "Some of the commonly used libraries used by Data Scientists include:\n",
    "1. NumPy\n",
    "2. Matplotlib\n",
    "3. Pandas\n",
    "4. SciPy\n",
    "5. PyTorch"
   ]
  },
  {
   "attachments": {},
   "cell_type": "markdown",
   "id": "98f75b62",
   "metadata": {},
   "source": [
    "|Data science Tools|\n",
    "---------------------------\n",
    "|GIT|\n",
    "|TensorFlow|\n",
    "|Apache|"
   ]
  },
  {
   "cell_type": "markdown",
   "id": "d5bfaa9d",
   "metadata": {},
   "source": [
    "Below are a few examples of evaluating arithmetic expressions in Python\n"
   ]
  },
  {
   "cell_type": "code",
   "execution_count": 2,
   "id": "a6411dcf",
   "metadata": {},
   "outputs": [
    {
     "data": {
      "text/plain": [
       "17"
      ]
     },
     "execution_count": 2,
     "metadata": {},
     "output_type": "execute_result"
    }
   ],
   "source": [
    "#This a simple arithmetic expression to mutiply then add integers\n",
    "(3*4)+5"
   ]
  },
  {
   "cell_type": "code",
   "execution_count": 5,
   "id": "b50ba854",
   "metadata": {},
   "outputs": [
    {
     "data": {
      "text/plain": [
       "3.3333333333333335"
      ]
     },
     "execution_count": 5,
     "metadata": {},
     "output_type": "execute_result"
    }
   ],
   "source": [
    "a=200 #minutes\n",
    "b=60 # minutes per hour\n",
    "c=a/b\n",
    "c"
   ]
  },
  {
   "cell_type": "markdown",
   "id": "04a64f2b",
   "metadata": {},
   "source": [
    "## Author\n",
    "Ashrafur Rahman"
   ]
  },
  {
   "cell_type": "code",
   "execution_count": null,
   "id": "8f637795",
   "metadata": {},
   "outputs": [],
   "source": []
  }
 ],
 "metadata": {
  "kernelspec": {
   "display_name": "Python 3 (ipykernel)",
   "language": "python",
   "name": "python3"
  },
  "language_info": {
   "codemirror_mode": {
    "name": "ipython",
    "version": 3
   },
   "file_extension": ".py",
   "mimetype": "text/x-python",
   "name": "python",
   "nbconvert_exporter": "python",
   "pygments_lexer": "ipython3",
   "version": "3.10.9"
  }
 },
 "nbformat": 4,
 "nbformat_minor": 5
}
